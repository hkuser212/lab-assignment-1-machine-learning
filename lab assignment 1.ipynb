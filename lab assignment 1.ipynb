{
 "cells": [
  {
   "cell_type": "code",
   "execution_count": 4,
   "id": "817fe2df-4889-4ecb-9ac6-89976793a617",
   "metadata": {},
   "outputs": [
    {
     "name": "stdout",
     "output_type": "stream",
     "text": [
      "[6 5 4 3 2 1]\n"
     ]
    }
   ],
   "source": [
    "#q1 a\n",
    "import numpy as np\n",
    "arr = np.array([1, 2, 3, 4, 5, 6])\n",
    "reversed_array = arr[::-1]\n",
    "print(reversed_array)"
   ]
  },
  {
   "cell_type": "code",
   "execution_count": 6,
   "id": "81cf8b30-2207-4482-8b5a-8f457905ce1f",
   "metadata": {},
   "outputs": [
    {
     "name": "stdout",
     "output_type": "stream",
     "text": [
      "[1 2 3 2 4 5 3 6 7]\n"
     ]
    }
   ],
   "source": [
    "#b \n",
    "array = np.array([[1, 2, 3], [2, 4, 5], [3, 6,7]])\n",
    "flatten_array = array.flatten()\n",
    "print(flatten_array)"
   ]
  },
  {
   "cell_type": "code",
   "execution_count": 7,
   "id": "818c0e93-ff08-473c-9bba-ec014b22429b",
   "metadata": {},
   "outputs": [
    {
     "name": "stdout",
     "output_type": "stream",
     "text": [
      "True\n"
     ]
    }
   ],
   "source": [
    "#c\n",
    "arr1 = np.array([[1, 2], [3, 4]])\n",
    "arr2 = np.array([[1, 2], [3, 4]])\n",
    "compared_array = np.array_equal(arr1, arr2)\n",
    "print(compared_array)"
   ]
  },
  {
   "cell_type": "code",
   "execution_count": 11,
   "id": "ad60ba97-9846-4fa5-a181-5adeaff96a61",
   "metadata": {},
   "outputs": [
    {
     "name": "stdout",
     "output_type": "stream",
     "text": [
      "[1 2 3 4 5 1 2 1 1 1]\n",
      "1\n",
      "[1 1 1 2 3 4 2 4 3 3]\n",
      "1\n"
     ]
    }
   ],
   "source": [
    "#d\n",
    "x = np.array([1,2,3,4,5,1,2,1,1,1])\n",
    "y = np.array([1, 1, 1, 2, 3, 4, 2, 4, 3, 3, ])\n",
    "print(x)\n",
    "print(np.bincount(x).argmax())\n",
    "print(y)\n",
    "print(np.bincount(x).argmax())"
   ]
  },
  {
   "cell_type": "code",
   "execution_count": 17,
   "id": "55d75a93-6f16-43dd-a043-672aefb6a2ea",
   "metadata": {},
   "outputs": [
    {
     "name": "stdout",
     "output_type": "stream",
     "text": [
      "45\n",
      "[[20  9 16]]\n",
      "[[ 4  1  9]\n",
      " [12  3  1]\n",
      " [ 4  5  6]]\n"
     ]
    }
   ],
   "source": [
    "#e\n",
    "array_gfg = np.matrix('[4, 1, 9; 12, 3, 1; 4, 5, 6]'),\n",
    "totalsum = np.sum(array_gfg)\n",
    "print(totalsum)\n",
    "totalsum1 = np.sum(array_gfg, axis=1)\n",
    "print(totalsum1)\n",
    "totalsum2 = np.sum(array_gfg, axis=0)\n",
    "print(totalsum2)"
   ]
  },
  {
   "cell_type": "code",
   "execution_count": 19,
   "id": "2777304e-1954-416b-bf44-8c93b6bb6cad",
   "metadata": {},
   "outputs": [
    {
     "name": "stdout",
     "output_type": "stream",
     "text": [
      "176\n",
      "[98.16835147 28.097044   49.73460452]\n",
      "[[ 0.4574917   0.34637121 -0.15017693]\n",
      " [ 0.28447814 -0.72784061 -0.4852124 ]\n",
      " [ 0.84248058  0.59184038  0.8614034 ]]\n",
      "[[ 0.02404141 -0.00911212 -0.00444671]\n",
      " [-0.01667882  0.02966905  0.0024785 ]\n",
      " [ 0.00631287 -0.01603732  0.01217379]]\n",
      "137180.0000000001\n"
     ]
    }
   ],
   "source": [
    "#f\n",
    "n_array = np.array([[55, 25, 15],[30, 44, 2],[11, 45, 77]])\n",
    "diag = np.trace(n_array)\n",
    "eigenvalues,eigenvectors = np.linalg.eig(n_array)\n",
    "inverse_matrix =  np.linalg.inv(n_array)\n",
    "determinant = np.linalg.det(n_array)\n",
    "print(diag)\n",
    "print(eigenvalues)\n",
    "print(eigenvectors)\n",
    "print(inverse_matrix)\n",
    "print(determinant)"
   ]
  },
  {
   "cell_type": "code",
   "execution_count": 25,
   "id": "1d595b89-5e30-4f2c-b0a3-473772833bde",
   "metadata": {},
   "outputs": [
    {
     "name": "stdout",
     "output_type": "stream",
     "text": [
      "[[16 19]\n",
      " [26 31]]\n",
      "[[0.5 0.5 0.5 0.5]\n",
      " [0.5 0.5 0.5 0.5]\n",
      " [0.5 0.5 0.5 0.5]\n",
      " [0.5 0.5 0.5 0.5]]\n"
     ]
    },
    {
     "ename": "ValueError",
     "evalue": "all the input array dimensions except for the concatenation axis must match exactly, but along dimension 1, the array at index 0 has size 3 and the array at index 1 has size 2",
     "output_type": "error",
     "traceback": [
      "\u001b[1;31m---------------------------------------------------------------------------\u001b[0m",
      "\u001b[1;31mValueError\u001b[0m                                Traceback (most recent call last)",
      "Cell \u001b[1;32mIn[25], line 10\u001b[0m\n\u001b[0;32m      8\u001b[0m q2 \u001b[38;5;241m=\u001b[39m np\u001b[38;5;241m.\u001b[39marray([[\u001b[38;5;241m4\u001b[39m, \u001b[38;5;241m5\u001b[39m, \u001b[38;5;241m1\u001b[39m], [\u001b[38;5;241m6\u001b[39m, \u001b[38;5;241m7\u001b[39m, \u001b[38;5;241m2\u001b[39m]])\n\u001b[0;32m      9\u001b[0m product2 \u001b[38;5;241m=\u001b[39m np\u001b[38;5;241m.\u001b[39mdot(p2, q2)\n\u001b[1;32m---> 10\u001b[0m covariance2 \u001b[38;5;241m=\u001b[39m \u001b[43mnp\u001b[49m\u001b[38;5;241;43m.\u001b[39;49m\u001b[43mcov\u001b[49m\u001b[43m(\u001b[49m\u001b[43mp2\u001b[49m\u001b[38;5;241;43m.\u001b[39;49m\u001b[43mT\u001b[49m\u001b[43m,\u001b[49m\u001b[43m \u001b[49m\u001b[43mq2\u001b[49m\u001b[38;5;241;43m.\u001b[39;49m\u001b[43mT\u001b[49m\u001b[43m)\u001b[49m\n\u001b[0;32m     12\u001b[0m \u001b[38;5;28mprint\u001b[39m(product2)\n\u001b[0;32m     13\u001b[0m \u001b[38;5;28mprint\u001b[39m(covariance2)\n",
      "File \u001b[1;32m~\\AppData\\Local\\Programs\\Python\\Python312\\Lib\\site-packages\\numpy\\lib\\function_base.py:2683\u001b[0m, in \u001b[0;36mcov\u001b[1;34m(m, y, rowvar, bias, ddof, fweights, aweights, dtype)\u001b[0m\n\u001b[0;32m   2681\u001b[0m     \u001b[38;5;28;01mif\u001b[39;00m \u001b[38;5;129;01mnot\u001b[39;00m rowvar \u001b[38;5;129;01mand\u001b[39;00m y\u001b[38;5;241m.\u001b[39mshape[\u001b[38;5;241m0\u001b[39m] \u001b[38;5;241m!=\u001b[39m \u001b[38;5;241m1\u001b[39m:\n\u001b[0;32m   2682\u001b[0m         y \u001b[38;5;241m=\u001b[39m y\u001b[38;5;241m.\u001b[39mT\n\u001b[1;32m-> 2683\u001b[0m     X \u001b[38;5;241m=\u001b[39m \u001b[43mnp\u001b[49m\u001b[38;5;241;43m.\u001b[39;49m\u001b[43mconcatenate\u001b[49m\u001b[43m(\u001b[49m\u001b[43m(\u001b[49m\u001b[43mX\u001b[49m\u001b[43m,\u001b[49m\u001b[43m \u001b[49m\u001b[43my\u001b[49m\u001b[43m)\u001b[49m\u001b[43m,\u001b[49m\u001b[43m \u001b[49m\u001b[43maxis\u001b[49m\u001b[38;5;241;43m=\u001b[39;49m\u001b[38;5;241;43m0\u001b[39;49m\u001b[43m)\u001b[49m\n\u001b[0;32m   2685\u001b[0m \u001b[38;5;28;01mif\u001b[39;00m ddof \u001b[38;5;129;01mis\u001b[39;00m \u001b[38;5;28;01mNone\u001b[39;00m:\n\u001b[0;32m   2686\u001b[0m     \u001b[38;5;28;01mif\u001b[39;00m bias \u001b[38;5;241m==\u001b[39m \u001b[38;5;241m0\u001b[39m:\n",
      "\u001b[1;31mValueError\u001b[0m: all the input array dimensions except for the concatenation axis must match exactly, but along dimension 1, the array at index 0 has size 3 and the array at index 1 has size 2"
     ]
    }
   ],
   "source": [
    "#g\n",
    "p1 = np.array([[1, 2], [2, 3]])\n",
    "q1 = np.array([[4, 5], [6, 7]])\n",
    "product1 = np.dot(p1,q1)\n",
    "conv1 = np.cov(p1,q1)\n",
    "print(product1)\n",
    "print(conv1)\n",
    "p2 = np.array([[1, 2], [2, 3], [4, 5]])\n",
    "q2 = np.array([[4, 5, 1], [6, 7, 2]])\n",
    "product2 = np.dot(p2, q2)\n",
    "covariance2 = np.cov(p2.T, q2.T)\n",
    "\n",
    "print(product2)\n",
    "print(covariance2)"
   ]
  },
  {
   "cell_type": "code",
   "execution_count": 26,
   "id": "679d955a-187a-43eb-8e6b-d72b839349b1",
   "metadata": {},
   "outputs": [
    {
     "name": "stdout",
     "output_type": "stream",
     "text": [
      "[[17 52]\n",
      " [13 62]]\n",
      "[[ 2 10  0 10 20  6]\n",
      " [ 3 15  0 15 30  9]\n",
      " [ 4 20  0 20 40 12]\n",
      " [ 3 15  0 15 30  9]\n",
      " [ 2 10  0 10 20  6]\n",
      " [ 9 45  0 45 90 27]]\n",
      "[[ 2  1]\n",
      " [ 2  5]\n",
      " [ 2  0]\n",
      " [ 2  5]\n",
      " [ 2 10]\n",
      " [ 2  3]\n",
      " [ 3  1]\n",
      " [ 3  5]\n",
      " [ 3  0]\n",
      " [ 3  5]\n",
      " [ 3 10]\n",
      " [ 3  3]\n",
      " [ 4  1]\n",
      " [ 4  5]\n",
      " [ 4  0]\n",
      " [ 4  5]\n",
      " [ 4 10]\n",
      " [ 4  3]\n",
      " [ 3  1]\n",
      " [ 3  5]\n",
      " [ 3  0]\n",
      " [ 3  5]\n",
      " [ 3 10]\n",
      " [ 3  3]\n",
      " [ 2  1]\n",
      " [ 2  5]\n",
      " [ 2  0]\n",
      " [ 2  5]\n",
      " [ 2 10]\n",
      " [ 2  3]\n",
      " [ 9  1]\n",
      " [ 9  5]\n",
      " [ 9  0]\n",
      " [ 9  5]\n",
      " [ 9 10]\n",
      " [ 9  3]]\n"
     ]
    }
   ],
   "source": [
    "#h\n",
    "x = np.array([[2, 3, 4], [3, 2, 9]])\n",
    "y = np.array([[1, 5, 0], [5, 10, 3]])\n",
    "\n",
    "\n",
    "inner_product = np.inner(x, y)\n",
    "outer_product = np.outer(x, y)\n",
    "cartesian_product = np.array(np.meshgrid(x, y)).T.reshape(-1, 2)\n",
    "\n",
    "print(inner_product)\n",
    "print(outer_product)\n",
    "print(cartesian_product)"
   ]
  },
  {
   "cell_type": "code",
   "execution_count": 27,
   "id": "f4d477c8-5a36-45b9-a8eb-cb9c3ed58df7",
   "metadata": {},
   "outputs": [
    {
     "name": "stdout",
     "output_type": "stream",
     "text": [
      "[[1 2 3]\n",
      " [4 5 6]]\n",
      "[-3.5 -0.5  2.5]\n",
      "[[-2.75 -0.25 -3.75]\n",
      " [-1.5   1.5  -1.5 ]\n",
      " [-0.25  3.25  0.75]]\n",
      "[[-0.5 -5. ]\n",
      " [ 1.  -4. ]\n",
      " [ 2.   0.5]]\n",
      "-0.5 -0.5 3.8622100754188224\n",
      "[-1.5  1.5 -1.5] [-1.5  1.5 -1.5] [2.5 3.5 4.5]\n",
      "[ 0.66666667 -1.66666667] [ 1. -4.] [2.05480467 4.78423336]\n"
     ]
    }
   ],
   "source": [
    "#Q2\n",
    "#(a)\n",
    "array = np.array([[1, -2, 3],[-4, 5, -6]])\n",
    "\n",
    "abs_values = np.abs(array)\n",
    "flattened_array = array.flatten()\n",
    "percentiles_flat = np.percentile(flattened_array, [25, 50, 75])\n",
    "percentiles_col = np.percentile(array, [25, 50, 75], axis=0)\n",
    "percentiles_row = np.percentile(array, [25, 50, 75], axis=1)\n",
    "mean_flat = np.mean(flattened_array)\n",
    "median_flat = np.median(flattened_array)\n",
    "std_flat = np.std(flattened_array)\n",
    "\n",
    "mean_col = np.mean(array, axis=0)\n",
    "median_col = np.median(array, axis=0)\n",
    "std_col = np.std(array, axis=0)\n",
    "\n",
    "mean_row = np.mean(array, axis=1)\n",
    "median_row = np.median(array, axis=1)\n",
    "std_row = np.std(array, axis=1)\n",
    "\n",
    "print(abs_values)\n",
    "print(percentiles_flat)\n",
    "print(percentiles_col)\n",
    "print(percentiles_row)\n",
    "print(mean_flat, median_flat, std_flat)\n",
    "print(mean_col, median_col, std_col)\n",
    "print(mean_row, median_row, std_row)\n"
   ]
  },
  {
   "cell_type": "code",
   "execution_count": 28,
   "id": "7f336b37-cd11-422f-b19c-3eefc1954da6",
   "metadata": {},
   "outputs": [
    {
     "name": "stdout",
     "output_type": "stream",
     "text": [
      "[-2. -2. -1.  0.  1.  1.  3.]\n",
      "[-1. -1. -0.  1.  2.  2.  3.]\n",
      "[-1. -1. -0.  0.  1.  1.  3.]\n",
      "[-2. -2. -0.  0.  2.  2.  3.]\n"
     ]
    }
   ],
   "source": [
    "#b\n",
    "a = np.array([-1.8, -1.6, -0.5, 0.5, 1.6, 1.8, 3.0])\n",
    "floor_values = np.floor(a)\n",
    "ceiling_values = np.ceil(a)\n",
    "truncated_values = np.trunc(a)\n",
    "rounded_values = np.round(a)\n",
    "print(floor_values)\n",
    "print(ceiling_values)\n",
    "print(truncated_values)\n",
    "print(rounded_values)\n",
    "\n"
   ]
  },
  {
   "cell_type": "code",
   "execution_count": 31,
   "id": "15a4507c-204d-4152-a674-3da5d8725c00",
   "metadata": {},
   "outputs": [
    {
     "name": "stdout",
     "output_type": "stream",
     "text": [
      "[ 10  16  16  52  54  62 453]\n",
      "[ 10  16  16  52  54  62 453]\n",
      "[0 3 4 1 5 2 6]\n",
      "[16 10 16 52]\n",
      "[ 16  52  62  54 453]\n"
     ]
    }
   ],
   "source": [
    "#Q3 (a)\n",
    "array = np.array([10, 52, 62, 16, 16, 54, 453])\n",
    "sorted_array = np.sort(array)\n",
    "print(sorted_array)\n",
    "sortest_indices = np.argsort(array)\n",
    "smallest_elements = np.partition(array, 4)[:4]\n",
    "largest_elements = np.partition(array, -5)[-5:]\n",
    "print(sorted_array)\n",
    "print(sortest_indices)\n",
    "print(smallest_elements)\n",
    "print(largest_elements)\n"
   ]
  },
  {
   "cell_type": "code",
   "execution_count": 32,
   "id": "df2b6214-45c3-490a-ac5e-f4c44242b428",
   "metadata": {},
   "outputs": [
    {
     "name": "stdout",
     "output_type": "stream",
     "text": [
      "[1. 2. 3. 2.]\n",
      "[1.2 2.2]\n"
     ]
    }
   ],
   "source": [
    "#b\n",
    "array = np.array([1.0, 1.2, 2.2, 2.0, 3.0, 2.0])\n",
    "integer_elements = array[array == array.astype(int)]\n",
    "float_elements = array[array != array.astype(int)]\n",
    "print(integer_elements)\n",
    "print(float_elements)\n"
   ]
  },
  {
   "cell_type": "code",
   "execution_count": 18,
   "id": "66ce8129-36b0-4b59-bf12-cde2d770074d",
   "metadata": {},
   "outputs": [
    {
     "name": "stdout",
     "output_type": "stream",
     "text": [
      "Image saved as image_rgb.txt\n"
     ]
    }
   ],
   "source": [
    "from PIL import Image\n",
    "import numpy as np\n",
    "path =\"dog.jpg\"\n",
    "def img_to_array(path):\n",
    "    try:\n",
    "        # Open the image\n",
    "        image = Image.open(path)\n",
    "        \n",
    "        # Convert the image to a numpy array\n",
    "        img_array = np.array(image)\n",
    "        \n",
    "        # Determine the filename based on the image mode (RGB or greyscale)\n",
    "        if img_array.ndim == 3:  # RGB Image\n",
    "            filename = \"image_rgb.txt\"\n",
    "        else:  # Greyscale Image\n",
    "            filename = \"image_greyscale.txt\"\n",
    "        \n",
    "        # Save the array to a text file\n",
    "        np.savetxt(filename, img_array.reshape(-1, img_array.shape[-1] if img_array.ndim == 3 else 1), fmt='%d' if img_array.ndim == 3 else '%.2f', delimiter=',')\n",
    "        \n",
    "        print(f\"Image saved as {filename}\")\n",
    "    except Exception as e:\n",
    "        print(f\"Error: {e}\")\n",
    "\n",
    "# Example usage with a relative path\n",
    "path = \"dog.jpg\"  # Update this path to point to your image file\n",
    "img_to_array(path)\n"
   ]
  },
  {
   "cell_type": "code",
   "execution_count": null,
   "id": "6d95d71a-8b50-4eed-8376-7210aa1e801a",
   "metadata": {},
   "outputs": [],
   "source": []
  },
  {
   "cell_type": "code",
   "execution_count": null,
   "id": "d60cfe06-097b-4fe0-a4a9-453b600d2b49",
   "metadata": {},
   "outputs": [],
   "source": []
  }
 ],
 "metadata": {
  "kernelspec": {
   "display_name": "Python 3 (ipykernel)",
   "language": "python",
   "name": "python3"
  },
  "language_info": {
   "codemirror_mode": {
    "name": "ipython",
    "version": 3
   },
   "file_extension": ".py",
   "mimetype": "text/x-python",
   "name": "python",
   "nbconvert_exporter": "python",
   "pygments_lexer": "ipython3",
   "version": "3.12.0"
  }
 },
 "nbformat": 4,
 "nbformat_minor": 5
}
